{
 "cells": [
  {
   "cell_type": "markdown",
   "id": "eb252c6b-4a74-4eb6-bf0a-57fd4d81b992",
   "metadata": {},
   "source": [
    "Q1. How do you comment code in Python? What are the different types of comments?\n",
    "\n",
    "\n",
    "\n",
    "Ans. 1 = Comments in Python are identified with a hash symbol, #, and extend to the end of the line. Hash characters in a string are not considered comments, however. There are three ways to write a comment - as a separate line, beside the corresponding statement of code, or as a multi-line comm"
   ]
  },
  {
   "cell_type": "markdown",
   "id": "58bcace6-662e-4fa0-850f-e10499cd51f2",
   "metadata": {},
   "source": [
    "Q2. What are variables in Python? How do you declare and assign values to variables?\n",
    "\n",
    "Ans. 2 = A variable is a string of characters and numbers associated with a piece of information. The assignment operator, denoted by the “=” symbol, is the operator that is used to assign values to variables in Python. The line x=1 takes the known value, 1, and assigns that value to the variable with name “x”."
   ]
  },
  {
   "cell_type": "markdown",
   "id": "f241c986-3c77-40b7-8c8c-ecac9541f17d",
   "metadata": {},
   "source": [
    "Q3. How do you convert one data type to another in Python?\n",
    "\n",
    "Ans. 3 = With the help of inbuilt function called Type casting"
   ]
  },
  {
   "cell_type": "markdown",
   "id": "924825cb-b8f8-4a37-8c73-d33c405d494e",
   "metadata": {},
   "source": [
    "Q4. How do you write and execute a Python script from the command line?\n",
    "\n",
    "Ans. 4 =The most basic and easy way to run a Python script is by using the python command. You need to open a command line and type the word python followed by the path to your script file like this: python first_script.py Hello World! Then you hit the ENTER button from the keyboard, and that's it."
   ]
  },
  {
   "cell_type": "markdown",
   "id": "15950d7e-b722-413a-b8d0-c8419ab0da71",
   "metadata": {},
   "source": [
    "Q5. Given a list my_list = [1, 2, 3, 4, 5], write the code to slice the list and obtain the sub-list [2, 3].\n",
    "\n",
    "Ans. 5 =  my_list[1,2]\n",
    "\n",
    "Q6. What is a complex number in mathematics, and how is it represented in Python?\n",
    "\n",
    "Ans. 6 = Python helps to tackle and manipulate them. Complex numbers are created from two real numbers. You can create it directly or you can use the complex function. It is written in the form of (x + yj) where x and y are real numbers and j is an imaginary number which is the square root of -1.\n",
    "\n",
    "Q7. What is the correct way to declare a variable named age and assign the value 25 to it?\n",
    "\n",
    "Ans.7 = Dict\n",
    "\n",
    "Q8. Declare a variable named price and assign the value 9.99 to it. What data type does this variable\n",
    "belong to?\n",
    "\n",
    "Ans. 8 = Dictionary Variable"
   ]
  },
  {
   "cell_type": "markdown",
   "id": "326c19a3-f04a-4d67-b9aa-8d288734a751",
   "metadata": {},
   "source": [
    "Q9. Create a variable named name and assign your full name to it as a string. How would you print the\n",
    "value of this variable?\n",
    "\n",
    "Ans. 9 = Dict\n",
    "\n",
    "Q10. Given the string \"Hello, World!\", extract the substring \"World\".\n",
    "\n",
    "Ans. 10 = through indexing 7:12\n",
    "\n",
    "Q11. Create a variable named \"is_student\" and assign it a boolean value indicating whether you are\n",
    "currently a student or not.\n",
    "\n",
    "Ans. 11 = "
   ]
  },
  {
   "cell_type": "code",
   "execution_count": 6,
   "id": "428a5bb3-aec7-491b-9019-74ec388c062b",
   "metadata": {},
   "outputs": [
    {
     "name": "stdout",
     "output_type": "stream",
     "text": [
      "\n"
     ]
    }
   ],
   "source": [
    "is_student = True\n",
    "print()"
   ]
  },
  {
   "cell_type": "code",
   "execution_count": null,
   "id": "49765cd4-37b5-496e-9a25-9098c0b10a8a",
   "metadata": {},
   "outputs": [],
   "source": []
  },
  {
   "cell_type": "code",
   "execution_count": null,
   "id": "943ac07a-c4fd-4c2e-9aa1-ce9c51b312f1",
   "metadata": {},
   "outputs": [],
   "source": []
  },
  {
   "cell_type": "code",
   "execution_count": null,
   "id": "fd023f5f-2f2e-4aba-828e-94802362bd8e",
   "metadata": {},
   "outputs": [],
   "source": []
  }
 ],
 "metadata": {
  "kernelspec": {
   "display_name": "Python 3 (ipykernel)",
   "language": "python",
   "name": "python3"
  },
  "language_info": {
   "codemirror_mode": {
    "name": "ipython",
    "version": 3
   },
   "file_extension": ".py",
   "mimetype": "text/x-python",
   "name": "python",
   "nbconvert_exporter": "python",
   "pygments_lexer": "ipython3",
   "version": "3.10.8"
  }
 },
 "nbformat": 4,
 "nbformat_minor": 5
}
